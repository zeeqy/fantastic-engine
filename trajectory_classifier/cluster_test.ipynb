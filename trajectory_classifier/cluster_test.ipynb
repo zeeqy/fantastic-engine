{
 "cells": [
  {
   "cell_type": "code",
   "execution_count": 1,
   "metadata": {},
   "outputs": [],
   "source": [
    "import numpy as np\n",
    "import torch\n",
    "from gmm import GaussianMixture\n",
    "import matplotlib.pyplot as plt\n",
    "%matplotlib inline"
   ]
  },
  {
   "cell_type": "code",
   "execution_count": 2,
   "metadata": {},
   "outputs": [],
   "source": [
    "def sample(mu, var, nb_samples=500):\n",
    "    out = []\n",
    "    for i in range(nb_samples):\n",
    "        out += [\n",
    "            torch.normal(mu, var.sqrt())\n",
    "        ]\n",
    "    return torch.stack(out, dim=0)\n",
    "\n",
    "def plot_2d_sample(sample,color='blue'):\n",
    "    x = sample[:, 0]\n",
    "    y = sample[:, 1]\n",
    "    plt.scatter(x, y, c=color)"
   ]
  },
  {
   "cell_type": "code",
   "execution_count": 3,
   "metadata": {},
   "outputs": [
    {
     "name": "stdout",
     "output_type": "stream",
     "text": [
      "(1500, 2)\n"
     ]
    },
    {
     "data": {
      "image/png": "[encoded data removed]",
      "text/plain": [
       "<Figure size 432x288 with 1 Axes>"
      ]
     },
     "metadata": {
      "needs_background": "light"
     },
     "output_type": "display_data"
    }
   ],
   "source": [
    "p1 = sample(torch.tensor([2.5, 2.5],dtype=torch.float32),torch.tensor([1.2,0.8],dtype=torch.float32)).numpy()\n",
    "p2 = sample(torch.tensor([7.5,7.5],dtype=torch.float32),torch.tensor([0.75,0.5],dtype=torch.float32)).numpy()\n",
    "p3 = sample(torch.tensor([8,1.5],dtype=torch.float32),torch.tensor([0.6,0.8],dtype=torch.float32)).numpy()\n",
    "data = np.concatenate([p1,p2,p3], axis=0)\n",
    "data_copy = np.copy(data)\n",
    "print(data.shape)\n",
    "np.random.shuffle(data)\n",
    "plot_2d_sample(data)"
   ]
  },
  {
   "cell_type": "code",
   "execution_count": 4,
   "metadata": {},
   "outputs": [],
   "source": [
    "gmm = GaussianMixture(3,2)"
   ]
  },
  {
   "cell_type": "code",
   "execution_count": 5,
   "metadata": {},
   "outputs": [
    {
     "name": "stdout",
     "output_type": "stream",
     "text": [
      "epoch = 1, log_likelihood = -4.803955554962158\n",
      "epoch = 2, log_likelihood = -4.720869541168213\n",
      "epoch = 3, log_likelihood = -4.565467357635498\n",
      "epoch = 4, log_likelihood = -4.385863780975342\n",
      "epoch = 5, log_likelihood = -4.2737579345703125\n",
      "epoch = 6, log_likelihood = -4.212352752685547\n",
      "epoch = 7, log_likelihood = -4.098977565765381\n",
      "epoch = 8, log_likelihood = -3.9236371517181396\n",
      "epoch = 9, log_likelihood = -3.7899374961853027\n",
      "epoch = 10, log_likelihood = -3.6834020614624023\n",
      "epoch = 11, log_likelihood = -3.6690657138824463\n",
      "epoch = 12, log_likelihood = -3.668513774871826\n",
      "epoch = 13, log_likelihood = -3.668492078781128\n",
      "epoch = 14, log_likelihood = -3.6684911251068115\n"
     ]
    }
   ],
   "source": [
    "gmm.fit(data,iprint=True)"
   ]
  },
  {
   "cell_type": "code",
   "execution_count": 6,
   "metadata": {},
   "outputs": [
    {
     "data": {
      "text/plain": [
       "Parameter containing:\n",
       "tensor([[2.5284, 2.4952],\n",
       "        [7.4680, 7.4816],\n",
       "        [7.9745, 1.4979]])"
      ]
     },
     "execution_count": 6,
     "metadata": {},
     "output_type": "execute_result"
    }
   ],
   "source": [
    "gmm.mu"
   ]
  },
  {
   "cell_type": "code",
   "execution_count": 7,
   "metadata": {},
   "outputs": [
    {
     "data": {
      "text/plain": [
       "Parameter containing:\n",
       "tensor([[1.3261, 0.8328],\n",
       "        [0.7411, 0.5576],\n",
       "        [0.5573, 0.8016]])"
      ]
     },
     "execution_count": 7,
     "metadata": {},
     "output_type": "execute_result"
    }
   ],
   "source": [
    "gmm.var"
   ]
  },
  {
   "cell_type": "code",
   "execution_count": 8,
   "metadata": {},
   "outputs": [],
   "source": [
    "ttt = gmm.predict(data,prob=False)"
   ]
  },
  {
   "cell_type": "code",
   "execution_count": 9,
   "metadata": {},
   "outputs": [
    {
     "data": {
      "image/png": "[encoded data removed]",
      "text/plain": [
       "<Figure size 432x288 with 1 Axes>"
      ]
     },
     "metadata": {
      "needs_background": "light"
     },
     "output_type": "display_data"
    }
   ],
   "source": [
    "plot_2d_sample(data[ttt==0],color='red')\n",
    "plot_2d_sample(data[ttt==1],color='blue')\n",
    "plot_2d_sample(data[ttt==2],color='green')"
   ]
  },
  {
   "cell_type": "code",
   "execution_count": 10,
   "metadata": {},
   "outputs": [
    {
     "name": "stdout",
     "output_type": "stream",
     "text": [
      "(1500, 3)\n"
     ]
    }
   ],
   "source": [
    "p1_ex = sample(torch.tensor([2.5],dtype=torch.float32),torch.tensor([1.2],dtype=torch.float32)).numpy()\n",
    "p2_ex = sample(torch.tensor([7.5],dtype=torch.float32),torch.tensor([0.75],dtype=torch.float32)).numpy()\n",
    "p3_ex = sample(torch.tensor([8],dtype=torch.float32),torch.tensor([0.6],dtype=torch.float32)).numpy()\n",
    "data_ex = np.concatenate([p1_ex,p2_ex,p3_ex], axis=0)\n",
    "new_data = np.append(data_copy,data_ex,axis=1)\n",
    "print(new_data.shape)"
   ]
  },
  {
   "cell_type": "code",
   "execution_count": 11,
   "metadata": {},
   "outputs": [
    {
     "name": "stdout",
     "output_type": "stream",
     "text": [
      "torch.Size([3, 3]) torch.Size([3, 3])\n",
      "epoch = 1, log_likelihood = -4.978977680206299\n",
      "epoch = 2, log_likelihood = -4.97663688659668\n",
      "epoch = 3, log_likelihood = -4.976635932922363\n"
     ]
    }
   ],
   "source": [
    "gmm.append_fit(new_data,1)"
   ]
  },
  {
   "cell_type": "code",
   "execution_count": 12,
   "metadata": {},
   "outputs": [
    {
     "data": {
      "text/plain": [
       "Parameter containing:\n",
       "tensor([[2.5129, 2.4970, 2.5357],\n",
       "        [7.4680, 7.4815, 7.4976],\n",
       "        [7.9649, 1.5007, 7.9746]])"
      ]
     },
     "execution_count": 12,
     "metadata": {},
     "output_type": "execute_result"
    }
   ],
   "source": [
    "gmm.mu"
   ]
  },
  {
   "cell_type": "code",
   "execution_count": 13,
   "metadata": {},
   "outputs": [
    {
     "data": {
      "text/plain": [
       "Parameter containing:\n",
       "tensor([[1.2794, 0.8346, 1.2012],\n",
       "        [0.7411, 0.5581, 0.6929],\n",
       "        [0.5751, 0.8008, 0.6094]])"
      ]
     },
     "execution_count": 13,
     "metadata": {},
     "output_type": "execute_result"
    }
   ],
   "source": [
    "gmm.var"
   ]
  },
  {
   "cell_type": "code",
   "execution_count": null,
   "metadata": {},
   "outputs": [],
   "source": []
  }
 ],
 "metadata": {
  "kernelspec": {
   "display_name": "Python 3",
   "language": "python",
   "name": "python3"
  },
  "language_info": {
   "codemirror_mode": {
    "name": "ipython",
    "version": 3
   },
   "file_extension": ".py",
   "mimetype": "text/x-python",
   "name": "python",
   "nbconvert_exporter": "python",
   "pygments_lexer": "ipython3",
   "version": "3.7.0"
  }
 },
 "nbformat": 4,
 "nbformat_minor": 2
}
