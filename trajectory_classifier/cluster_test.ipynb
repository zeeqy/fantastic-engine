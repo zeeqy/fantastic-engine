{
 "cells": [
  {
   "cell_type": "code",
   "execution_count": null,
   "metadata": {},
   "outputs": [],
   "source": [
    "import numpy as np\n",
    "import torch\n",
    "from gmm import GaussianMixture\n",
    "import matplotlib.pyplot as plt\n",
    "%matplotlib inline"
   ]
  },
  {
   "cell_type": "code",
   "execution_count": null,
   "metadata": {},
   "outputs": [],
   "source": [
    "def sample(mu, var, nb_samples=500):\n",
    "    out = []\n",
    "    for i in range(nb_samples):\n",
    "        out += [\n",
    "            torch.normal(mu, var.sqrt())\n",
    "        ]\n",
    "    return torch.stack(out, dim=0)\n",
    "\n",
    "def plot_2d_sample(sample,color='blue'):\n",
    "    x = sample[:, 0]\n",
    "    y = sample[:, 1]\n",
    "    plt.scatter(x, y, c=color)"
   ]
  },
  {
   "cell_type": "code",
   "execution_count": null,
   "metadata": {},
   "outputs": [],
   "source": [
    "p1 = sample(torch.tensor([2.5, 2.5],dtype=torch.float32),torch.tensor([1.2,0.8],dtype=torch.float32)).numpy()\n",
    "p2 = sample(torch.tensor([7.5,7.5],dtype=torch.float32),torch.tensor([0.75,0.5],dtype=torch.float32)).numpy()\n",
    "p3 = sample(torch.tensor([8,1.5],dtype=torch.float32),torch.tensor([0.6,0.8],dtype=torch.float32)).numpy()\n",
    "data = np.concatenate([p1,p2,p3], axis=0)\n",
    "print(data.shape)\n",
    "np.random.shuffle(data)\n",
    "plot_2d_sample(data)"
   ]
  },
  {
   "cell_type": "code",
   "execution_count": null,
   "metadata": {},
   "outputs": [],
   "source": [
    "gmm = GaussianMixture(3,2)"
   ]
  },
  {
   "cell_type": "code",
   "execution_count": null,
   "metadata": {},
   "outputs": [],
   "source": [
    "gmm.fit(data,iprint=True)"
   ]
  },
  {
   "cell_type": "code",
   "execution_count": null,
   "metadata": {},
   "outputs": [],
   "source": [
    "gmm.mu"
   ]
  },
  {
   "cell_type": "code",
   "execution_count": null,
   "metadata": {},
   "outputs": [],
   "source": [
    "gmm.var"
   ]
  },
  {
   "cell_type": "code",
   "execution_count": null,
   "metadata": {},
   "outputs": [],
   "source": [
    "ttt = gmm.predict(data,prob=False)"
   ]
  },
  {
   "cell_type": "code",
   "execution_count": null,
   "metadata": {},
   "outputs": [],
   "source": [
    "plot_2d_sample(data[ttt==0],color='red')\n",
    "plot_2d_sample(data[ttt==1],color='blue')\n",
    "plot_2d_sample(data[ttt==2],color='green')"
   ]
  },
  {
   "cell_type": "code",
   "execution_count": null,
   "metadata": {},
   "outputs": [],
   "source": []
  }
 ],
 "metadata": {
  "kernelspec": {
   "display_name": "Python 3",
   "language": "python",
   "name": "python3"
  },
  "language_info": {
   "codemirror_mode": {
    "name": "ipython",
    "version": 3
   },
   "file_extension": ".py",
   "mimetype": "text/x-python",
   "name": "python",
   "nbconvert_exporter": "python",
   "pygments_lexer": "ipython3",
   "version": "3.7.0"
  }
 },
 "nbformat": 4,
 "nbformat_minor": 2
}
